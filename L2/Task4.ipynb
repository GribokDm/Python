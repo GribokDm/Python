{
 "cells": [
  {
   "cell_type": "code",
   "execution_count": 18,
   "metadata": {},
   "outputs": [
    {
     "name": "stdout",
     "output_type": "stream",
     "text": [
      "Thailand - 23.85714285714285 Germany - 13.799999999999999 Russia - 3.714285714285717 Poland - 11.999999999999996\n"
     ]
    }
   ],
   "source": [
    "# Задание 4\n",
    "countries_temperature = [\n",
    "['Thailand', [75.2, 77, 78.8, 73.4, 68, 75.2, 77]],\n",
    "['Germany', [57.2, 55.4, 59, 59, 53.6]],\n",
    "['Russia', [35.6, 37.4, 39.2, 41, 42.8, 39.2, 35.6]],\n",
    "['Poland', [50, 50, 53.6, 57.2, 55.4, 55.4]]\n",
    "]\n",
    "\n",
    "middle_thai = sum(countries_temperature[0][1]) / len(countries_temperature[0][1])\n",
    "celsium_thai = (middle_thai - 32) * 5 / 9\n",
    "\n",
    "middle_germ = sum(countries_temperature[1][1]) / len(countries_temperature[1][1])\n",
    "celsium_germ = (middle_germ - 32) * 5 / 9\n",
    "\n",
    "middle_rus = sum(countries_temperature[2][1]) / len(countries_temperature[2][1])\n",
    "celsium_rus = (middle_rus - 32) * 5 / 9\n",
    "\n",
    "middle_pol = sum(countries_temperature[3][1]) / len(countries_temperature[3][1])\n",
    "celsium_pol = (middle_pol - 32) * 5 / 9\n",
    "\n",
    "print('Thailand', '-', celsium_thai,'Germany', '-', celsium_germ,'Russia', '-', celsium_rus,'Poland', '-', celsium_pol)\n"
   ]
  },
  {
   "cell_type": "code",
   "execution_count": null,
   "metadata": {},
   "outputs": [],
   "source": [
    "# Решение лучше!\n",
    "\n",
    "# for countries in countries_temperature:\n",
    "#    print(f'{countries[0]} - {((sum(countries[1]) / len(countries[1])) - 32) * 5 / 9 :.2f}')"
   ]
  }
 ],
 "metadata": {
  "kernelspec": {
   "display_name": "Python 3",
   "language": "python",
   "name": "python3"
  },
  "language_info": {
   "codemirror_mode": {
    "name": "ipython",
    "version": 3
   },
   "file_extension": ".py",
   "mimetype": "text/x-python",
   "name": "python",
   "nbconvert_exporter": "python",
   "pygments_lexer": "ipython3",
   "version": "3.8.3"
  }
 },
 "nbformat": 4,
 "nbformat_minor": 4
}
