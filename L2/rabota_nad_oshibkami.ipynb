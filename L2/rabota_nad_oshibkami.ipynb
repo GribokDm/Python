{
 "cells": [
  {
   "cell_type": "code",
   "execution_count": 1,
   "metadata": {},
   "outputs": [],
   "source": [
    "# Задание 1"
   ]
  },
  {
   "cell_type": "code",
   "execution_count": 3,
   "metadata": {},
   "outputs": [
    {
     "name": "stdout",
     "output_type": "stream",
     "text": [
      "2\n",
      "2\n",
      "2\n",
      "0\n",
      "6\n"
     ]
    }
   ],
   "source": [
    "# Задание 2\n",
    "\n",
    "a = int(input())\n",
    "sum_a = 0\n",
    "while a != 0:\n",
    "    sum_a += a\n",
    "    a = int(input())\n",
    "print(sum_a)"
   ]
  },
  {
   "cell_type": "code",
   "execution_count": 29,
   "metadata": {},
   "outputs": [],
   "source": [
    "# Задание 3\n",
    "\n",
    "# boys = ['Peter', 'Alex', 'John', 'Arthur', 'Richard', 'Michael']\n",
    "boys = ['Peter', 'Alex', 'John', 'Arthur', 'Richard']\n",
    "girls = ['Kate', 'Liza', 'Kira', 'Emma', 'Trisha']\n",
    "\n",
    "s_boys = sorted(boys)\n",
    "s_girls = sorted(girls)\n",
    "\n",
    "pairs = zip(s_boys, s_girls)\n",
    "# print(f\"{s_boys[0]} и {s_girls[0]}\")\n",
    "\n",
    "\n",
    "# else: print('Внимание, кто-то может остаться без пары!')"
   ]
  },
  {
   "cell_type": "code",
   "execution_count": 31,
   "metadata": {},
   "outputs": [
    {
     "name": "stdout",
     "output_type": "stream",
     "text": [
      "Thailand - 23.86\n",
      "Germany - 13.80\n",
      "Russia - 3.71\n",
      "Poland - 12.00\n"
     ]
    }
   ],
   "source": [
    "# Задание 4\n",
    "\n",
    "countries_temperature = [\n",
    "['Thailand', [75.2, 77, 78.8, 73.4, 68, 75.2, 77]],\n",
    "['Germany', [57.2, 55.4, 59, 59, 53.6]],\n",
    "['Russia', [35.6, 37.4, 39.2, 41, 42.8, 39.2, 35.6]],\n",
    "['Poland', [50, 50, 53.6, 57.2, 55.4, 55.4]]\n",
    "]\n",
    "\n",
    "for countries in countries_temperature:\n",
    "    print(f'{countries[0]} - {((sum(countries[1]) / len(countries[1])) - 32) * 5 / 9 :.2f}')"
   ]
  }
 ],
 "metadata": {
  "kernelspec": {
   "display_name": "Python 3",
   "language": "python",
   "name": "python3"
  },
  "language_info": {
   "codemirror_mode": {
    "name": "ipython",
    "version": 3
   },
   "file_extension": ".py",
   "mimetype": "text/x-python",
   "name": "python",
   "nbconvert_exporter": "python",
   "pygments_lexer": "ipython3",
   "version": "3.8.3"
  }
 },
 "nbformat": 4,
 "nbformat_minor": 4
}
