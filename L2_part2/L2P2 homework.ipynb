{
 "cells": [
  {
   "cell_type": "markdown",
   "metadata": {},
   "source": [
    "# Задание 1"
   ]
  },
  {
   "cell_type": "code",
   "execution_count": 4,
   "metadata": {},
   "outputs": [
    {
     "data": {
      "text/plain": [
       "[98, 35, 15, 213, 54, 119]"
      ]
     },
     "execution_count": 4,
     "metadata": {},
     "output_type": "execute_result"
    }
   ],
   "source": [
    "ids = {'user1': [213, 213, 213, 15, 213],\n",
    "'user2': [54, 54, 119, 119, 119],\n",
    "'user3': [213, 98, 98, 35]}\n",
    "\n",
    "combo_li = list()\n",
    "for li in list(ids.values()):\n",
    "    combo_li += li\n",
    "list(set(combo_li))\n",
    "\n",
    "# li = list(ids.values())\n",
    "# combo_li = li[0] + li[1] + li[2]\n",
    "# combo_li\n",
    "# list(set(combo_li))"
   ]
  },
  {
   "cell_type": "markdown",
   "metadata": {},
   "source": [
    "# Задание 2"
   ]
  },
  {
   "cell_type": "code",
   "execution_count": 8,
   "metadata": {},
   "outputs": [
    {
     "name": "stdout",
     "output_type": "stream",
     "text": [
      "Поисковых запросов, содержащих 2 слов(а): 42.86%\n",
      "Поисковых запросов, содержащих 3 слов(а): 57.14%\n"
     ]
    }
   ],
   "source": [
    "queries = [\n",
    "'смотреть сериалы онлайн',\n",
    "'новости спорта',\n",
    "'афиша кино',\n",
    "'курс доллара',\n",
    "'сериалы этим летом',\n",
    "'курс по питону',\n",
    "'сериалы про спорт',\n",
    "]\n",
    "\n",
    "three = 0\n",
    "two = 0\n",
    "\n",
    "for el in queries:\n",
    "    number = len(el.split())\n",
    "    if number == 3:\n",
    "        three += 1\n",
    "    elif number == 2:\n",
    "        two += 1\n",
    "\n",
    "ammount = three + two\n",
    "\n",
    "print(f\"Поисковых запросов, содержащих 2 слов(а): {round(two / ammount * 100, 2)}%\")\n",
    "print(f\"Поисковых запросов, содержащих 3 слов(а): {round(three / ammount * 100, 2)}%\")\n"
   ]
  },
  {
   "cell_type": "markdown",
   "metadata": {},
   "source": [
    "# Задание 3"
   ]
  },
  {
   "cell_type": "code",
   "execution_count": 9,
   "metadata": {},
   "outputs": [
    {
     "data": {
      "text/plain": [
       "{'vk': {'revenue': 103, 'cost': 98, 'ROI': 5.1},\n",
       " 'yandex': {'revenue': 179, 'cost': 153, 'ROI': 16.99},\n",
       " 'facebook': {'revenue': 103, 'cost': 110, 'ROI': -6.36},\n",
       " 'adwords': {'revenue': 35, 'cost': 34, 'ROI': 2.94},\n",
       " 'twitter': {'revenue': 11, 'cost': 24, 'ROI': -54.17}}"
      ]
     },
     "execution_count": 9,
     "metadata": {},
     "output_type": "execute_result"
    }
   ],
   "source": [
    "results = {\n",
    "'vk': {'revenue': 103, 'cost': 98},\n",
    "'yandex': {'revenue': 179, 'cost': 153},\n",
    "'facebook': {'revenue': 103, 'cost': 110},\n",
    "'adwords': {'revenue': 35, 'cost': 34},\n",
    "'twitter': {'revenue': 11, 'cost': 24},\n",
    "}\n",
    "\n",
    "#  (revenue / cost - 1) * 100\n",
    "\n",
    "for key, value in results.items():\n",
    "    ROI = round(((value['revenue'] / value['cost'] - 1) * 100), 2)\n",
    "    value['ROI'] = ROI\n",
    "results"
   ]
  },
  {
   "cell_type": "markdown",
   "metadata": {},
   "source": [
    "# Задание 4"
   ]
  },
  {
   "cell_type": "code",
   "execution_count": 11,
   "metadata": {},
   "outputs": [
    {
     "name": "stdout",
     "output_type": "stream",
     "text": [
      "Максимальный объем продаж на рекламном канале:vk\n"
     ]
    }
   ],
   "source": [
    "stats = {\n",
    "    'facebook': 55, \n",
    "    'yandex': 115, \n",
    "    'vk': 120, \n",
    "    'google': 99, \n",
    "    'email': 42, \n",
    "    'ok': 98\n",
    "}\n",
    "\n",
    "stats_sorted = dict(sorted(stats.items(), key = lambda kv: kv[1], reverse = True))\n",
    "\n",
    "for key in stats_sorted:\n",
    "    print(f\"Максимальный объем продаж на рекламном канале:{key}\")\n",
    "    break\n",
    "\n",
    "# работает, как швейцарские часы :)"
   ]
  }
 ],
 "metadata": {
  "kernelspec": {
   "display_name": "Python 3",
   "language": "python",
   "name": "python3"
  },
  "language_info": {
   "codemirror_mode": {
    "name": "ipython",
    "version": 3
   },
   "file_extension": ".py",
   "mimetype": "text/x-python",
   "name": "python",
   "nbconvert_exporter": "python",
   "pygments_lexer": "ipython3",
   "version": "3.8.3"
  }
 },
 "nbformat": 4,
 "nbformat_minor": 4
}
