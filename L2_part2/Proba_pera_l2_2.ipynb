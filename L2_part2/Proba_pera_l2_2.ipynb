{
 "cells": [
  {
   "cell_type": "code",
   "execution_count": 3,
   "metadata": {},
   "outputs": [
    {
     "name": "stdout",
     "output_type": "stream",
     "text": [
      "1 Microsoft с капитализацией 1.3\n",
      "2 Lenovo с капитализацией 1.1\n",
      "3 Onion с капитализацией 0.9\n",
      "4 Hp с капитализацией 1.01\n"
     ]
    }
   ],
   "source": [
    "companies_cap = [\n",
    "    ['Microsoft', 1.3],\n",
    "    ['Lenovo', 1.1],\n",
    "    ['Onion', 0.9],\n",
    "    ['Hp', 1.01]\n",
    "]\n",
    "\n",
    "for i, companies in enumerate(companies_cap):\n",
    "    print(i+1, companies[0], 'с капитализацией', companies[1])"
   ]
  },
  {
   "cell_type": "code",
   "execution_count": 7,
   "metadata": {},
   "outputs": [
    {
     "data": {
      "text/plain": [
       "[0.9]"
      ]
     },
     "execution_count": 7,
     "metadata": {},
     "output_type": "execute_result"
    }
   ],
   "source": [
    "[companies[1] for i, companies in enumerate(companies_cap) if companies[1] <1]"
   ]
  }
 ],
 "metadata": {
  "kernelspec": {
   "display_name": "Python 3",
   "language": "python",
   "name": "python3"
  },
  "language_info": {
   "codemirror_mode": {
    "name": "ipython",
    "version": 3
   },
   "file_extension": ".py",
   "mimetype": "text/x-python",
   "name": "python",
   "nbconvert_exporter": "python",
   "pygments_lexer": "ipython3",
   "version": "3.8.3"
  }
 },
 "nbformat": 4,
 "nbformat_minor": 4
}
