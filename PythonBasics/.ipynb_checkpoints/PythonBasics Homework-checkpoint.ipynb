{
 "cells": [
  {
   "cell_type": "code",
   "execution_count": 3,
   "metadata": {},
   "outputs": [
    {
     "data": {
      "text/plain": [
       "True"
      ]
     },
     "execution_count": 3,
     "metadata": {},
     "output_type": "execute_result"
    }
   ],
   "source": [
    "# задание 1\n",
    "\n",
    "phrase_1 = 'Насколько проще было бы писать программы, если бы не заказчики'\n",
    "phrase_2 = '640Кб должно хватить для любых задач. Билл Гейтс (по легенде)'\n",
    "\n",
    "phrase_1 > phrase_2"
   ]
  },
  {
   "cell_type": "code",
   "execution_count": 4,
   "metadata": {},
   "outputs": [
    {
     "data": {
      "text/plain": [
       "True"
      ]
     },
     "execution_count": 4,
     "metadata": {},
     "output_type": "execute_result"
    }
   ],
   "source": [
    "phrase_1 = '640Кб должно хватить для любых задач. Билл Гейтс (по легенде)'\n",
    "phrase_2 = 'Насколько проще было бы писать программы, если бы не заказчики'\n",
    "\n",
    "phrase_2 > phrase_1"
   ]
  },
  {
   "cell_type": "code",
   "execution_count": 6,
   "metadata": {},
   "outputs": [
    {
     "data": {
      "text/plain": [
       "True"
      ]
     },
     "execution_count": 6,
     "metadata": {},
     "output_type": "execute_result"
    }
   ],
   "source": [
    "phrase_1 = 'Насколько проще было бы писать программы, если бы не заказчики'\n",
    "phrase_2 = 'Насколько проще было бы писать программы, если бы не заказчики'\n",
    "\n",
    "phrase_1 == phrase_2"
   ]
  },
  {
   "cell_type": "code",
   "execution_count": 15,
   "metadata": {},
   "outputs": [
    {
     "name": "stdout",
     "output_type": "stream",
     "text": [
      "високосный год\n"
     ]
    }
   ],
   "source": [
    "# задание 2\n",
    "\n",
    "year = 2020\n",
    "if year % 4 == 0:\n",
    "    print(\"високосный год\")"
   ]
  },
  {
   "cell_type": "code",
   "execution_count": 17,
   "metadata": {},
   "outputs": [
    {
     "name": "stdout",
     "output_type": "stream",
     "text": [
      "обычный год\n"
     ]
    }
   ],
   "source": [
    "year = 2019\n",
    "if year % 4 != 0:\n",
    "    print(\"обычный год\")"
   ]
  },
  {
   "cell_type": "code",
   "execution_count": 32,
   "metadata": {},
   "outputs": [
    {
     "name": "stdout",
     "output_type": "stream",
     "text": [
      "Введите день 21\n",
      "Введите месяц апрель\n",
      "Ваш знак зодиака: Телец\n"
     ]
    }
   ],
   "source": [
    "# задание 3\n",
    "\n",
    "a = int(input('Введите день '))\n",
    "b = input('Введите месяц ')\n",
    "\n",
    "if 21 <= a <= 31 and b == 'март':\n",
    "    print('Ваш знак зодиака: Овен')        \n",
    "elif 1 <= a <= 19 and b == 'апрель':\n",
    "    print('Ваш знак зодиака: Овен')\n",
    "elif 20 <= a <= 30 and b == 'апрель':\n",
    "    print('Ваш знак зодиака: Телец')\n",
    "elif 1 <= a <= 20 and b == 'май':\n",
    "    print('Ваш знак зодиака: Телец')\n",
    "elif 21 <= a <= 31 and b == 'май':\n",
    "    print('Ваш знак зодиака: Близнецы')\n",
    "elif 1 <= a <= 20 and b == 'июнь':\n",
    "    print('Ваш знак зодиака: Близнецы') \n",
    "elif 21 <= a <= 30 and b == 'июнь':\n",
    "    print('Ваш знак зодиака: Рак')\n",
    "elif 1 <= a <= 22 and b == 'июль':\n",
    "    print('Ваш знак зодиака: Рак')\n",
    "elif 23 <= a <= 31 and b == 'июль':\n",
    "    print('Ваш знак зодиака: Лев')\n",
    "elif 1 <= a <= 22 and b == 'август':\n",
    "    print('Ваш знак зодиака: Лев')\n",
    "elif 23 <= a <= 31 and b == 'август':\n",
    "    print('Ваш знак зодиака: Дева')\n",
    "elif 1 <= a <= 22 and b == 'сентабрь':\n",
    "    print('Ваш знак зодиака: Дева') \n",
    "elif 23 <= a <= 30 and b == 'сентябрь':\n",
    "    print('Ваш знак зодиака: Весы')\n",
    "elif 1 <= a <= 22 and b == 'октябрь':\n",
    "    print('Ваш знак зодиака: Весы')\n",
    "elif 23 <= a <= 31 and b == 'октябрь':\n",
    "    print('Ваш знак зодиака: Скорпион')\n",
    "elif 1 <= a <= 21 and b == 'ноябрь':\n",
    "    print('Ваш знак зодиака: Скорпион')\n",
    "elif 22 <= a <= 30 and b == 'ноябрь':\n",
    "    print('Ваш знак зодиака: Стрелец')\n",
    "elif 1 <= a <= 21 and b == 'декабрь':\n",
    "    print('Ваш знак зодиака: Стрелец') \n",
    "elif 22 <= a <= 31 and b == 'декабрь':\n",
    "    print('Ваш знак зодиака: Козерог')\n",
    "elif 1 <= a <= 19 and b == 'январь':\n",
    "    print('Ваш знак зодиака: Козерог')\n",
    "elif 20 <= a <= 31 and b == 'январь':\n",
    "    print('Ваш знак зодиака: Водолей')\n",
    "elif 1 <= a <= 18 and b == 'февраль':\n",
    "    print('Ваш знак зодиака: Водолей')\n",
    "elif 19 <= a <= 30 and b == 'февраль':\n",
    "    print('Ваш знак зодиака: Рыбы')\n",
    "elif 1 <= a <= 20 and b == 'февраль':\n",
    "    print('Ваш знак зодиака: Рыбы') \n",
    "else: print('Ошибка')"
   ]
  },
  {
   "cell_type": "code",
   "execution_count": 61,
   "metadata": {},
   "outputs": [
    {
     "name": "stdout",
     "output_type": "stream",
     "text": [
      "Введите ширину 0\n",
      "Введите длину 2\n",
      "Введите высоту 2\n",
      "Стандартная коробка №3\n"
     ]
    }
   ],
   "source": [
    "# задание 4\n",
    "\n",
    "width = int(input('Введите ширину '))\n",
    "length = int(input('Введите длину '))\n",
    "height = int(input('Введите высоту '))\n",
    "\n",
    "if 1 <= width <=15 and 1 <= length<= 15 and 1 <= height <= 15:\n",
    "        print('Коробка №1')\n",
    "\n",
    "elif 15 <= width <= 50 and 1 <= length <= 15 and 1 <= height <= 15:\n",
    "        print('Коробка №2')\n",
    "elif 15 <= length <= 50 and 1 <= width <=15 and 1 <= height <= 15:\n",
    "        print('Коробка №2')\n",
    "elif 15 <= height <= 50 and 1 <= length <= 15 and 15 <= width <= 15:\n",
    "        print('Коробка №2')\n",
    "elif 15 <= width <= 50 and 15 <= length <= 50 and 15 <= height <= 50:\n",
    "        print('Коробка №2')\n",
    "elif 15 <= width <= 50 and 15 <= length <= 50 and 1 <= height <= 15:\n",
    "        print('Коробка №2')\n",
    "elif 15 <= width <= 50 and 1 <= length <= 15 and 15 <= height <= 50:\n",
    "        print('Коробка №2')\n",
    "elif 1 <= width <= 15 and 15 <= length <= 50 and 15 <= height <= 50:\n",
    "        print('Коробка №2')\n",
    "\n",
    "elif 200 <= width or 200 <= length or 200 <= height:\n",
    "        print('Упаковка для лыж')\n",
    "        \n",
    "else: print('Стандартная коробка №3')"
   ]
  },
  {
   "cell_type": "code",
   "execution_count": null,
   "metadata": {},
   "outputs": [],
   "source": []
  }
 ],
 "metadata": {
  "kernelspec": {
   "display_name": "Python 3",
   "language": "python",
   "name": "python3"
  },
  "language_info": {
   "codemirror_mode": {
    "name": "ipython",
    "version": 3
   },
   "file_extension": ".py",
   "mimetype": "text/x-python",
   "name": "python",
   "nbconvert_exporter": "python",
   "pygments_lexer": "ipython3",
   "version": "3.8.3"
  }
 },
 "nbformat": 4,
 "nbformat_minor": 4
}
