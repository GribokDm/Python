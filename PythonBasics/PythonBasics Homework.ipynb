{
 "cells": [
  {
   "cell_type": "code",
   "execution_count": 6,
   "metadata": {},
   "outputs": [
    {
     "name": "stdout",
     "output_type": "stream",
     "text": [
      "Фраза 1 длиннее фразы 2\n"
     ]
    }
   ],
   "source": [
    "# задание 1\n",
    "\n",
    "phrase_1 = 'Насколько проще было бы писать программы, если бы не заказчики'\n",
    "phrase_2 = '640Кб должно хватить для любых задач. Билл Гейтс (по легенде)'\n",
    "\n",
    "# phrase_1 = '640Кб должно хватить для любых задач. Билл Гейтс (по легенде)'\n",
    "# phrase_2 = 'Насколько проще было бы писать программы, если бы не заказчики'\n",
    "\n",
    "# phrase_1 = 'Насколько проще было бы писать программы, если бы не заказчики'\n",
    "# phrase_2 = 'Насколько проще было бы писать программы, если бы не заказчики'\n",
    "\n",
    "if len(phrase_1) > len(phrase_2):\n",
    "    print('Фраза 1 длиннее фразы 2')\n",
    "elif len(phrase_2) > len(phrase_1):\n",
    "    print('Фраза 2 длиннее фразы 1')\n",
    "else: print('Фразы равной длины')"
   ]
  },
  {
   "cell_type": "code",
   "execution_count": 18,
   "metadata": {},
   "outputs": [
    {
     "name": "stdout",
     "output_type": "stream",
     "text": [
      "обычный год\n"
     ]
    }
   ],
   "source": [
    "# задание 2\n",
    "\n",
    "year = 2019\n",
    "\n",
    "if year % 400 == 0:\n",
    "    print('високосный год')\n",
    "elif year % 100 == 0:\n",
    "    print('обычный год')\n",
    "elif year % 4 == 0:\n",
    "    print('високосный год')\n",
    "else: print('обычный год')"
   ]
  },
  {
   "cell_type": "code",
   "execution_count": 22,
   "metadata": {},
   "outputs": [
    {
     "name": "stdout",
     "output_type": "stream",
     "text": [
      "Введите день 19\n",
      "Введите месяц март\n",
      "Ваш знак зодиака: Рыбы\n"
     ]
    }
   ],
   "source": [
    "# задание 3\n",
    "\n",
    "a = int(input('Введите день '))\n",
    "b = input('Введите месяц ')\n",
    "\n",
    "if 21 <= a <= 31 and b == 'март' or 1 <= a <= 19 and b == 'апрель':\n",
    "    print('Ваш знак зодиака: Овен')        \n",
    "\n",
    "elif 20 <= a <= 30 and b == 'апрель' or 1 <= a <= 20 and b == 'май':\n",
    "    print('Ваш знак зодиака: Телец')\n",
    "\n",
    "elif 21 <= a <= 31 and b == 'май' or 1 <= a <= 20 and b == 'июнь':\n",
    "    print('Ваш знак зодиака: Близнецы')\n",
    "\n",
    "elif 21 <= a <= 30 and b == 'июнь' or 1 <= a <= 22 and b == 'июль':\n",
    "    print('Ваш знак зодиака: Рак')\n",
    "\n",
    "elif 23 <= a <= 31 and b == 'июль' or 1 <= a <= 22 and b == 'август':\n",
    "    print('Ваш знак зодиака: Лев')\n",
    "\n",
    "elif 23 <= a <= 31 and b == 'август' or 1 <= a <= 22 and b == 'сентабрь':\n",
    "    print('Ваш знак зодиака: Дева')\n",
    "\n",
    "elif 23 <= a <= 30 and b == 'сентябрь' or 1 <= a <= 22 and b == 'октябрь':\n",
    "    print('Ваш знак зодиака: Весы')\n",
    "\n",
    "elif 23 <= a <= 31 and b == 'октябрь' or 1 <= a <= 21 and b == 'ноябрь':\n",
    "    print('Ваш знак зодиака: Скорпион')\n",
    "\n",
    "elif 22 <= a <= 30 and b == 'ноябрь' or 1 <= a <= 21 and b == 'декабрь':\n",
    "    print('Ваш знак зодиака: Стрелец')\n",
    "\n",
    "elif 22 <= a <= 31 and b == 'декабрь' or 1 <= a <= 19 and b == 'январь':\n",
    "    print('Ваш знак зодиака: Козерог')\n",
    "\n",
    "elif 20 <= a <= 31 and b == 'январь' or 1 <= a <= 18 and b == 'февраль':\n",
    "    print('Ваш знак зодиака: Водолей')\n",
    "\n",
    "elif 19 <= a <= 30 and b == 'февраль' or 1 <= a <= 20 and b == 'март':\n",
    "    print('Ваш знак зодиака: Рыбы')\n",
    "\n",
    "else: print('Ошибка')"
   ]
  },
  {
   "cell_type": "code",
   "execution_count": 23,
   "metadata": {},
   "outputs": [
    {
     "name": "stdout",
     "output_type": "stream",
     "text": [
      "Введите ширину 13\n",
      "Введите длину 41\n",
      "Введите высоту 15\n",
      "Коробка №2\n"
     ]
    }
   ],
   "source": [
    "# задание 4\n",
    "\n",
    "width = int(input('Введите ширину '))\n",
    "length = int(input('Введите длину '))\n",
    "height = int(input('Введите высоту '))\n",
    "\n",
    "if 1 <= width <=15 and 1 <= length<= 15 and 1 <= height <= 15:\n",
    "        print('Коробка №1')\n",
    "\n",
    "elif 15 < width < 50 or 15 < length < 50 or 15 < height < 50:\n",
    "        print('Коробка №2')\n",
    "\n",
    "elif 200 <= width or 200 <= length or 200 <= height:\n",
    "        print('Упаковка для лыж')\n",
    "        \n",
    "else: print('Стандартная коробка №3')"
   ]
  },
  {
   "cell_type": "code",
   "execution_count": null,
   "metadata": {},
   "outputs": [],
   "source": []
  }
 ],
 "metadata": {
  "kernelspec": {
   "display_name": "Python 3",
   "language": "python",
   "name": "python3"
  },
  "language_info": {
   "codemirror_mode": {
    "name": "ipython",
    "version": 3
   },
   "file_extension": ".py",
   "mimetype": "text/x-python",
   "name": "python",
   "nbconvert_exporter": "python",
   "pygments_lexer": "ipython3",
   "version": "3.8.3"
  }
 },
 "nbformat": 4,
 "nbformat_minor": 4
}
